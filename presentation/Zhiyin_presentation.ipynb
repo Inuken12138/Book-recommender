{
  "cells": [
    {
      "cell_type": "markdown",
      "metadata": {
        "id": "xYyHxi73wW_q"
      },
      "source": [
        "Project name: Book recommender system"
      ]
    },
    {
      "cell_type": "markdown",
      "metadata": {
        "id": "b22EKhV_xgxd"
      },
      "source": [
        "###"
      ]
    },
    {
      "cell_type": "markdown",
      "metadata": {
        "id": "aXjXi6oCwdVq"
      },
      "source": [
        "### Methodology\n",
        "**Conten-based:**\n"
      ]
    },
    {
      "cell_type": "markdown",
      "metadata": {
        "id": "xoSvx789zyVi"
      },
      "source": [
        "**Collaborative Filtering**\n",
        "\n",
        "Since we have users 'interaction' with books - theirs ratings, we can use collaborative filtering using these interactions, based on the idea that users who have agreed in the past will agree in the future.\n",
        "\n",
        "In our project, Alternating Least Squares (ALS) algorithm is used to identify the patterns in both users and books. ALS can factorize the large user-item interaction matrix into two lower-dimensional matrices that capture the latent factors of users and items. The final goal of ALS is to minimize the difference between the actual ratings and the predicted ones derived from the latent factors.\n",
        "\n",
        "\n",
        "1. Data preparation \n",
        "\n",
        "First, the user and book IDs are mapped to a range of index, which is essential for creating a sparse matrix."
      ]
    },
    {
      "cell_type": "code",
      "execution_count": null,
      "metadata": {
        "vscode": {
          "languageId": "plaintext"
        }
      },
      "outputs": [],
      "source": [
        "from scipy.sparse import csr_matrix\n",
        "from implicit.als import AlternatingLeastSquares\n",
        "from sklearn.model_selection import train_test_split\n",
        "from sklearn.metrics import mean_squared_error\n",
        "\n",
        "# Map user and book IDs to continuous indices\n",
        "user_id_mapping = {id: idx for idx, id in enumerate(ratings['User-ID'].unique())}\n",
        "book_id_mapping = {id: idx for idx, id in enumerate(ratings['ISBN'].unique())}\n",
        "\n",
        "ratings['User-ID'] = ratings['User-ID'].map(user_id_mapping)\n",
        "ratings['ISBN'] = ratings['ISBN'].map(book_id_mapping)\n",
        "ratings.dropna(subset=['Book-Rating'], inplace=True)\n",
        "all_user_ids = ratings['User-ID'].unique()\n",
        "all_book_ids = ratings['ISBN'].unique()"
      ]
    },
    {
      "cell_type": "markdown",
      "metadata": {},
      "source": [
        "2. Train-Test Split\n",
        "\n",
        "The data is split into training and test sets. To ensure that all users and books are represented in the training set, any users or books that are only present in the test set are added back to the training set."
      ]
    },
    {
      "cell_type": "code",
      "execution_count": null,
      "metadata": {
        "vscode": {
          "languageId": "plaintext"
        }
      },
      "outputs": [],
      "source": [
        "train_data, test_data = train_test_split(ratings, test_size=0.2, random_state=42)\n",
        "\n",
        "train_user_ids = set(train_data['User-ID'])\n",
        "train_book_ids = set(train_data['ISBN'])\n",
        "missing_users = set(all_user_ids) - train_user_ids\n",
        "missing_books = set(all_book_ids) - train_book_ids\n",
        "\n",
        "missing_data = ratings[ratings['User-ID'].isin(missing_users) | ratings['ISBN'].isin(missing_books)]\n",
        "train_data = pd.concat([train_data, missing_data]).drop_duplicates()"
      ]
    },
    {
      "cell_type": "markdown",
      "metadata": {},
      "source": [
        "3. Create Sparse Matrices\n",
        "\n",
        "Sparse matrices for the training and test data are created. These matrices are used by the ALS to learn the latent factors. Here we also added a test to judge whether there is null values in the training matrix, in case during matric factorization there is error."
      ]
    },
    {
      "cell_type": "code",
      "execution_count": null,
      "metadata": {
        "vscode": {
          "languageId": "plaintext"
        }
      },
      "outputs": [],
      "source": [
        "# Create sparse matrices for training and test data\n",
        "n_users = ratings['User-ID'].nunique()\n",
        "n_items = ratings['ISBN'].nunique()\n",
        "train_matrix = csr_matrix((train_data['Book-Rating'], (train_data['User-ID'], train_data['ISBN'])), shape=(n_users, n_items))\n",
        "test_matrix = csr_matrix((test_data['Book-Rating'], (test_data['User-ID'], test_data['ISBN'])), shape=(n_users, n_items))\n",
        "print(\"-------matrix finished---------\")\n",
        "\n",
        "# Check for NaN values in the training matrix\n",
        "if np.any(np.isnan(train_matrix.data)):\n",
        "    print(\"NaN values found in training matrix\")\n",
        "else:\n",
        "    print(\"No NaN values in training matrix\")"
      ]
    },
    {
      "cell_type": "markdown",
      "metadata": {},
      "source": [
        "4. Train the ALS Model\n",
        "\n",
        "An ALS model is initialized and trained using the training data. The model learns latent factors for users and books. Here we set the iteration to be 20."
      ]
    },
    {
      "cell_type": "code",
      "execution_count": null,
      "metadata": {
        "vscode": {
          "languageId": "plaintext"
        }
      },
      "outputs": [],
      "source": [
        "# Initialize and train the ALS model\n",
        "als_model = AlternatingLeastSquares(factors=50, regularization=0.1, iterations=20, use_gpu=False, calculate_training_loss=True)\n",
        "als_model.fit(train_matrix.T, show_progress=True)\n"
      ]
    },
    {
      "cell_type": "markdown",
      "metadata": {},
      "source": [
        "5. Evaluate the Model\n",
        "\n",
        "The model is evaluated using the test data by calculating the Root Mean Square Error (RMSE) between the predicted ratings and the actual ratings in the test set.\n",
        "\n",
        "We first extract non-zero entries, then iterate over Non-Zero User-Item pairs to calculate predictions, during this we also check index bounds. After the predictions, we first handle empty predictions, If no predictions were made when the predictions list is empty, the function returns infinity, which is a safeguard to indicate that the model could not make any predictions. Finally RMSE is calculated.\n",
        "\n",
        "In our experiment, Test RMSE is: 7.844746002414569"
      ]
    },
    {
      "cell_type": "code",
      "execution_count": null,
      "metadata": {
        "vscode": {
          "languageId": "plaintext"
        }
      },
      "outputs": [],
      "source": [
        "# Evaluate the model\n",
        "def evaluate_model(test_matrix, als_model):\n",
        "    test_user_items = test_matrix.nonzero()\n",
        "    predictions = []\n",
        "    ground_truth = []\n",
        "    for user, item in zip(test_user_items[0], test_user_items[1]):\n",
        "        if user < als_model.user_factors.shape[0] and item < als_model.item_factors.shape[0]:\n",
        "            prediction = als_model.user_factors[user, :].dot(als_model.item_factors[item, :].T)\n",
        "            predictions.append(prediction)\n",
        "            ground_truth.append(test_matrix[user, item])\n",
        "    if len(predictions) == 0:\n",
        "        return float('inf')  \n",
        "    return np.sqrt(mean_squared_error(ground_truth, predictions))\n"
      ]
    },
    {
      "cell_type": "markdown",
      "metadata": {},
      "source": [
        "6. Generate Recommendations\n",
        "\n",
        "Since the recommendation is based on user's past action, after checking whether user is in our mapping, we retrieve the ratings given by the user from the training matrix, then use it by the recommend method to filter out books that the user has already rated. The recommendation is based on Implicit library."
      ]
    },
    {
      "cell_type": "code",
      "execution_count": null,
      "metadata": {
        "vscode": {
          "languageId": "plaintext"
        }
      },
      "outputs": [],
      "source": [
        "def recommend_books_als(user_id, num_recommendations=5):\n",
        "    if user_id not in user_id_mapping:\n",
        "        return [] \n",
        "    user_index = user_id_mapping[user_id]\n",
        "    user_ratings = train_matrix[user_index]\n",
        "    recommended_books = als_model.recommend(user_index, user_ratings, N=num_recommendations, filter_already_liked_items=True)\n",
        "    # recommended_book_ids = [list(book_id_mapping.keys())[list(book_id_mapping.values()).index(i)] for i, _ in recommended_books]\n",
        "    # return books[books['ISBN'].isin(recommended_book_ids)]\n",
        "    return recommended_books"
      ]
    },
    {
      "cell_type": "markdown",
      "metadata": {},
      "source": [
        "7. Conclusion for ALS:\n",
        "\n",
        "By using ALS, we managed to discover hidden patterns and relationships in the rating data by learning latent factors for both users and books. Also, we managed to reduce the high-dimensional user-item matrix into lower-dimensional ones. The RMSE is relatively low, and we show it effeciency in predicting unknown interactions and generate recommendations for users. Also, we can use it to compute similarities between users and items."
      ]
    }
  ],
  "metadata": {
    "colab": {
      "provenance": []
    },
    "kernelspec": {
      "display_name": "Python 3",
      "name": "python3"
    },
    "language_info": {
      "name": "python"
    }
  },
  "nbformat": 4,
  "nbformat_minor": 0
}
