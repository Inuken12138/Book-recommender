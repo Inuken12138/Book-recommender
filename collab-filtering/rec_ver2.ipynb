{
 "cells": [
  {
   "cell_type": "code",
   "execution_count": 1,
   "metadata": {},
   "outputs": [],
   "source": [
    "import numpy as np\n",
    "from scipy.sparse.linalg import svds\n",
    "import pandas as pd\n",
    "import warnings\n",
    "warnings.filterwarnings(\"ignore\")"
   ]
  },
  {
   "cell_type": "code",
   "execution_count": 2,
   "metadata": {},
   "outputs": [],
   "source": [
    "ratings = pd.read_csv('../Ratings.csv')\n",
    "users = pd.read_csv('../Users.csv')\n",
    "dtype_spec = {\n",
    "    'ISBN': str,\n",
    "    'Book-Title': str,\n",
    "    'Book-Author': str,\n",
    "    'Year-Of-Publication': str,\n",
    "    'Publisher': str,\n",
    "    'Image-URL-S': str,\n",
    "    'Image-URL-M': str,\n",
    "    'Image-URL-L': str,\n",
    "    'Description': str,\n",
    "    'Categories': str\n",
    "}\n",
    "books = pd.read_csv('../updated_books_progress.csv', dtype=dtype_spec, low_memory=False)\n"
   ]
  },
  {
   "cell_type": "code",
   "execution_count": 3,
   "metadata": {},
   "outputs": [
    {
     "data": {
      "text/plain": [
       "(   User-ID  Location  Age\n",
       " 0        1     36772   32\n",
       " 1        2     48830   18\n",
       " 2        3     33483   32\n",
       " 3        4     40562   17\n",
       " 4        5     16902   32,\n",
       "          ISBN                                         Book-Title  Book-Author  \\\n",
       " 0  0195153448                                Classical Mythology        65202   \n",
       " 1  0002005018                                       Clara Callan        81481   \n",
       " 2  0060973129                               Decision in Normandy        12671   \n",
       " 3  0374157065  Flu: The Story of the Great Influenza Pandemic...        34304   \n",
       " 4  0393045218                             The Mummies of Urumchi        25095   \n",
       " \n",
       "    Year-Of-Publication  Publisher  \\\n",
       " 0               2002.0      10974   \n",
       " 1               2001.0       6667   \n",
       " 2               1991.0       6670   \n",
       " 3               1999.0       5292   \n",
       " 4               1999.0      15844   \n",
       " \n",
       "                                          Image-URL-S  \\\n",
       " 0  http://images.amazon.com/images/P/0195153448.0...   \n",
       " 1  http://images.amazon.com/images/P/0002005018.0...   \n",
       " 2  http://images.amazon.com/images/P/0060973129.0...   \n",
       " 3  http://images.amazon.com/images/P/0374157065.0...   \n",
       " 4  http://images.amazon.com/images/P/0393045218.0...   \n",
       " \n",
       "                                          Image-URL-M  \\\n",
       " 0  http://images.amazon.com/images/P/0195153448.0...   \n",
       " 1  http://images.amazon.com/images/P/0002005018.0...   \n",
       " 2  http://images.amazon.com/images/P/0060973129.0...   \n",
       " 3  http://images.amazon.com/images/P/0374157065.0...   \n",
       " 4  http://images.amazon.com/images/P/0393045218.0...   \n",
       " \n",
       "                                          Image-URL-L  \\\n",
       " 0  http://images.amazon.com/images/P/0195153448.0...   \n",
       " 1  http://images.amazon.com/images/P/0002005018.0...   \n",
       " 2  http://images.amazon.com/images/P/0060973129.0...   \n",
       " 3  http://images.amazon.com/images/P/0374157065.0...   \n",
       " 4  http://images.amazon.com/images/P/0393045218.0...   \n",
       " \n",
       "                                          Description      Categories  \n",
       " 0  Provides an introduction to classical myths pl...  Social Science  \n",
       " 1  In a small town in Canada, Clara Callan reluct...       Actresses  \n",
       " 2  Here, for the first time in paperback, is an o...         History  \n",
       " 3  \"Scientists have recently discovered shards of...         Medical  \n",
       " 4  A look at the incredibly well-preserved ancien...          Design  )"
      ]
     },
     "execution_count": 3,
     "metadata": {},
     "output_type": "execute_result"
    }
   ],
   "source": [
    "def preprocess_users(users):\n",
    "    users['Age'].fillna(users['Age'].median(), inplace=True)\n",
    "    users['Age'] = users['Age'].astype(int)\n",
    "    users['Location'] = users['Location'].astype('category').cat.codes\n",
    "    return users\n",
    "\n",
    "def preprocess_books(books):\n",
    "    books.fillna('', inplace=True)\n",
    "    books['Year-Of-Publication'] = pd.to_numeric(books['Year-Of-Publication'], errors='coerce')\n",
    "    books['Year-Of-Publication'].fillna(books['Year-Of-Publication'].median(), inplace=True)\n",
    "    books['Publisher'] = books['Publisher'].astype('category').cat.codes\n",
    "    books['Book-Author'] = books['Book-Author'].astype('category').cat.codes\n",
    "    return books\n",
    "\n",
    "users = preprocess_users(users)\n",
    "books = preprocess_books(books)\n",
    "\n",
    "users.head(), books.head()"
   ]
  },
  {
   "cell_type": "code",
   "execution_count": 4,
   "metadata": {},
   "outputs": [
    {
     "name": "stdout",
     "output_type": "stream",
     "text": [
      "-------matrix finished---------\n",
      "No NaN values in training matrix\n"
     ]
    }
   ],
   "source": [
    "from scipy.sparse import csr_matrix\n",
    "from implicit.als import AlternatingLeastSquares\n",
    "from sklearn.model_selection import train_test_split\n",
    "from sklearn.metrics import mean_squared_error\n",
    "\n",
    "user_id_mapping = {id: idx for idx, id in enumerate(ratings['User-ID'].unique())}\n",
    "book_id_mapping = {id: idx for idx, id in enumerate(ratings['ISBN'].unique())}\n",
    "\n",
    "ratings['User-ID'] = ratings['User-ID'].map(user_id_mapping)\n",
    "ratings['ISBN'] = ratings['ISBN'].map(book_id_mapping)\n",
    "ratings.dropna(subset=['Book-Rating'], inplace=True)\n",
    "all_user_ids = ratings['User-ID'].unique()\n",
    "all_book_ids = ratings['ISBN'].unique()\n",
    "\n",
    "train_data, test_data = train_test_split(ratings, test_size=0.2, random_state=42)\n",
    "\n",
    "train_user_ids = set(train_data['User-ID'])\n",
    "train_book_ids = set(train_data['ISBN'])\n",
    "missing_users = set(all_user_ids) - train_user_ids\n",
    "missing_books = set(all_book_ids) - train_book_ids\n",
    "\n",
    "missing_data = ratings[ratings['User-ID'].isin(missing_users) | ratings['ISBN'].isin(missing_books)]\n",
    "train_data = pd.concat([train_data, missing_data]).drop_duplicates()\n",
    "\n",
    "n_users = ratings['User-ID'].nunique()\n",
    "n_items = ratings['ISBN'].nunique()\n",
    "train_matrix = csr_matrix((train_data['Book-Rating'], (train_data['User-ID'], train_data['ISBN'])), shape=(n_users, n_items))\n",
    "test_matrix = csr_matrix((test_data['Book-Rating'], (test_data['User-ID'], test_data['ISBN'])), shape=(n_users, n_items))\n",
    "print(\"-------matrix finished---------\")\n",
    "\n",
    "if np.any(np.isnan(train_matrix.data)):\n",
    "    print(\"NaN values found in training matrix\")\n",
    "else:\n",
    "    print(\"No NaN values in training matrix\")\n"
   ]
  },
  {
   "cell_type": "code",
   "execution_count": 5,
   "metadata": {},
   "outputs": [],
   "source": [
    "from sklearn.preprocessing import StandardScaler\n",
    "\n",
    "scaler = StandardScaler()\n",
    "users[['Age']] = scaler.fit_transform(users[['Age']])\n",
    "books[['Year-Of-Publication']] = scaler.fit_transform(books[['Year-Of-Publication']])"
   ]
  },
  {
   "cell_type": "code",
   "execution_count": 6,
   "metadata": {},
   "outputs": [
    {
     "name": "stdout",
     "output_type": "stream",
     "text": [
      "Training ALS model...\n"
     ]
    },
    {
     "name": "stderr",
     "output_type": "stream",
     "text": [
      "100%|██████████| 20/20 [01:51<00:00,  5.55s/it, loss=6.2e-5] "
     ]
    },
    {
     "name": "stdout",
     "output_type": "stream",
     "text": [
      "Model training completed.\n"
     ]
    },
    {
     "name": "stderr",
     "output_type": "stream",
     "text": [
      "\n"
     ]
    }
   ],
   "source": [
    "als_model = AlternatingLeastSquares(factors=50, regularization=0.1, iterations=20, use_gpu=False, calculate_training_loss=True)\n",
    "\n",
    "print(\"Training ALS model...\")\n",
    "als_model.fit(train_matrix.T, show_progress=True)\n",
    "print(\"Model training completed.\")"
   ]
  },
  {
   "cell_type": "code",
   "execution_count": 7,
   "metadata": {},
   "outputs": [],
   "source": [
    "import torch\n",
    "import torch.nn as nn\n",
    "import torch.optim as optim\n",
    "\n",
    "class EmbeddingNet(nn.Module):\n",
    "    # def __init__(self, num_users, num_books, embedding_dim, num_locations, num_authors, num_publishers):\n",
    "    def __init__(self, num_users, num_books, embedding_dim, num_authors):\n",
    "        super(EmbeddingNet, self).__init__()\n",
    "        self.user_embedding = nn.Embedding(num_users, embedding_dim)\n",
    "        self.book_embedding = nn.Embedding(num_books, embedding_dim)\n",
    "        # self.location_embedding = nn.Embedding(num_locations, embedding_dim)\n",
    "        self.author_embedding = nn.Embedding(num_authors, embedding_dim)\n",
    "        # self.publisher_embedding = nn.Embedding(num_publishers, embedding_dim)\n",
    "        self.user_age = nn.Linear(1, embedding_dim)\n",
    "        self.book_year = nn.Linear(1, embedding_dim)\n",
    "    \n",
    "    # def forward(self, user_id, book_id, location_id, age, author_id, year, publisher_id):\n",
    "    def forward(self, user_id, book_id, age, author_id, year):\n",
    "        user_embed = self.user_embedding(user_id).squeeze()\n",
    "        book_embed = self.book_embedding(book_id).squeeze()\n",
    "        # location_embed = self.location_embedding(location_id).squeeze()\n",
    "        author_embed = self.author_embedding(author_id).squeeze()\n",
    "        # publisher_embed = self.publisher_embedding(publisher_id).squeeze()\n",
    "        age_embed = self.user_age(age).squeeze()\n",
    "        year_embed = self.book_year(year).squeeze()\n",
    "        # return torch.cat([user_embed, location_embed, age_embed, book_embed, author_embed, year_embed, publisher_embed], dim=-1)\n",
    "        return torch.cat([user_embed, age_embed, book_embed, author_embed, year_embed], dim=-1)"
   ]
  },
  {
   "cell_type": "code",
   "execution_count": 8,
   "metadata": {},
   "outputs": [
    {
     "data": {
      "text/plain": [
       "(105283, 340556, 57339, 102023, 16808)"
      ]
     },
     "execution_count": 8,
     "metadata": {},
     "output_type": "execute_result"
    }
   ],
   "source": [
    "embedding_dim = 10\n",
    "num_users = len(user_id_mapping)\n",
    "num_books = len(book_id_mapping)\n",
    "num_locations = users['Location'].nunique()\n",
    "num_authors = books['Book-Author'].nunique()\n",
    "num_publishers = books['Publisher'].nunique()\n",
    "\n",
    "# model = EmbeddingNet(num_users, num_books, embedding_dim, num_locations, num_authors, num_publishers)\n",
    "model = EmbeddingNet(num_users, num_books, embedding_dim, num_authors)\n",
    "optimizer = optim.Adam(model.parameters(), lr=0.001)\n",
    "criterion = nn.MSELoss()\n",
    "\n",
    "num_users, num_books, num_locations, num_authors, num_publishers"
   ]
  },
  {
   "cell_type": "code",
   "execution_count": 9,
   "metadata": {},
   "outputs": [
    {
     "name": "stdout",
     "output_type": "stream",
     "text": [
      "975277\n"
     ]
    }
   ],
   "source": [
    "print(len(train_data))"
   ]
  },
  {
   "cell_type": "code",
   "execution_count": 26,
   "metadata": {},
   "outputs": [
    {
     "name": "stdout",
     "output_type": "stream",
     "text": [
      "epoch0 starts:\n",
      "epoch0 train finished:\n"
     ]
    },
    {
     "ename": "KeyboardInterrupt",
     "evalue": "",
     "output_type": "error",
     "traceback": [
      "\u001b[0;31m---------------------------------------------------------------------------\u001b[0m",
      "\u001b[0;31mKeyboardInterrupt\u001b[0m                         Traceback (most recent call last)",
      "Cell \u001b[0;32mIn[26], line 20\u001b[0m\n\u001b[1;32m     17\u001b[0m book_id \u001b[38;5;241m=\u001b[39m torch\u001b[38;5;241m.\u001b[39mtensor(book_id)\u001b[38;5;241m.\u001b[39mlong()\n\u001b[1;32m     19\u001b[0m \u001b[38;5;66;03m# embedding = model(user_id, book_id, location_id, age, author_id, year, publisher_id)\u001b[39;00m\n\u001b[0;32m---> 20\u001b[0m embedding \u001b[38;5;241m=\u001b[39m \u001b[43mmodel\u001b[49m\u001b[43m(\u001b[49m\u001b[43muser_id\u001b[49m\u001b[43m,\u001b[49m\u001b[43m \u001b[49m\u001b[43mbook_id\u001b[49m\u001b[43m,\u001b[49m\u001b[43m \u001b[49m\u001b[43mage\u001b[49m\u001b[43m,\u001b[49m\u001b[43m \u001b[49m\u001b[43mauthor_id\u001b[49m\u001b[43m,\u001b[49m\u001b[43m \u001b[49m\u001b[43myear\u001b[49m\u001b[43m)\u001b[49m\n\u001b[1;32m     22\u001b[0m rating \u001b[38;5;241m=\u001b[39m torch\u001b[38;5;241m.\u001b[39mtensor(rating)\u001b[38;5;241m.\u001b[39mfloat()\u001b[38;5;241m.\u001b[39munsqueeze(\u001b[38;5;241m0\u001b[39m)\n\u001b[1;32m     24\u001b[0m optimizer\u001b[38;5;241m.\u001b[39mzero_grad()\n",
      "File \u001b[0;32m~/opt/anaconda3/envs/unsw/lib/python3.9/site-packages/torch/nn/modules/module.py:1511\u001b[0m, in \u001b[0;36mModule._wrapped_call_impl\u001b[0;34m(self, *args, **kwargs)\u001b[0m\n\u001b[1;32m   1509\u001b[0m     \u001b[38;5;28;01mreturn\u001b[39;00m \u001b[38;5;28mself\u001b[39m\u001b[38;5;241m.\u001b[39m_compiled_call_impl(\u001b[38;5;241m*\u001b[39margs, \u001b[38;5;241m*\u001b[39m\u001b[38;5;241m*\u001b[39mkwargs)  \u001b[38;5;66;03m# type: ignore[misc]\u001b[39;00m\n\u001b[1;32m   1510\u001b[0m \u001b[38;5;28;01melse\u001b[39;00m:\n\u001b[0;32m-> 1511\u001b[0m     \u001b[38;5;28;01mreturn\u001b[39;00m \u001b[38;5;28;43mself\u001b[39;49m\u001b[38;5;241;43m.\u001b[39;49m\u001b[43m_call_impl\u001b[49m\u001b[43m(\u001b[49m\u001b[38;5;241;43m*\u001b[39;49m\u001b[43margs\u001b[49m\u001b[43m,\u001b[49m\u001b[43m \u001b[49m\u001b[38;5;241;43m*\u001b[39;49m\u001b[38;5;241;43m*\u001b[39;49m\u001b[43mkwargs\u001b[49m\u001b[43m)\u001b[49m\n",
      "File \u001b[0;32m~/opt/anaconda3/envs/unsw/lib/python3.9/site-packages/torch/nn/modules/module.py:1520\u001b[0m, in \u001b[0;36mModule._call_impl\u001b[0;34m(self, *args, **kwargs)\u001b[0m\n\u001b[1;32m   1515\u001b[0m \u001b[38;5;66;03m# If we don't have any hooks, we want to skip the rest of the logic in\u001b[39;00m\n\u001b[1;32m   1516\u001b[0m \u001b[38;5;66;03m# this function, and just call forward.\u001b[39;00m\n\u001b[1;32m   1517\u001b[0m \u001b[38;5;28;01mif\u001b[39;00m \u001b[38;5;129;01mnot\u001b[39;00m (\u001b[38;5;28mself\u001b[39m\u001b[38;5;241m.\u001b[39m_backward_hooks \u001b[38;5;129;01mor\u001b[39;00m \u001b[38;5;28mself\u001b[39m\u001b[38;5;241m.\u001b[39m_backward_pre_hooks \u001b[38;5;129;01mor\u001b[39;00m \u001b[38;5;28mself\u001b[39m\u001b[38;5;241m.\u001b[39m_forward_hooks \u001b[38;5;129;01mor\u001b[39;00m \u001b[38;5;28mself\u001b[39m\u001b[38;5;241m.\u001b[39m_forward_pre_hooks\n\u001b[1;32m   1518\u001b[0m         \u001b[38;5;129;01mor\u001b[39;00m _global_backward_pre_hooks \u001b[38;5;129;01mor\u001b[39;00m _global_backward_hooks\n\u001b[1;32m   1519\u001b[0m         \u001b[38;5;129;01mor\u001b[39;00m _global_forward_hooks \u001b[38;5;129;01mor\u001b[39;00m _global_forward_pre_hooks):\n\u001b[0;32m-> 1520\u001b[0m     \u001b[38;5;28;01mreturn\u001b[39;00m \u001b[43mforward_call\u001b[49m\u001b[43m(\u001b[49m\u001b[38;5;241;43m*\u001b[39;49m\u001b[43margs\u001b[49m\u001b[43m,\u001b[49m\u001b[43m \u001b[49m\u001b[38;5;241;43m*\u001b[39;49m\u001b[38;5;241;43m*\u001b[39;49m\u001b[43mkwargs\u001b[49m\u001b[43m)\u001b[49m\n\u001b[1;32m   1522\u001b[0m \u001b[38;5;28;01mtry\u001b[39;00m:\n\u001b[1;32m   1523\u001b[0m     result \u001b[38;5;241m=\u001b[39m \u001b[38;5;28;01mNone\u001b[39;00m\n",
      "Cell \u001b[0;32mIn[22], line 25\u001b[0m, in \u001b[0;36mEmbeddingNet.forward\u001b[0;34m(self, user_id, book_id, age, author_id, year)\u001b[0m\n\u001b[1;32m     23\u001b[0m \u001b[38;5;66;03m# publisher_embed = self.publisher_embedding(publisher_id).squeeze()\u001b[39;00m\n\u001b[1;32m     24\u001b[0m age_embed \u001b[38;5;241m=\u001b[39m \u001b[38;5;28mself\u001b[39m\u001b[38;5;241m.\u001b[39muser_age(age)\u001b[38;5;241m.\u001b[39msqueeze()\n\u001b[0;32m---> 25\u001b[0m year_embed \u001b[38;5;241m=\u001b[39m \u001b[38;5;28;43mself\u001b[39;49m\u001b[38;5;241;43m.\u001b[39;49m\u001b[43mbook_year\u001b[49m\u001b[43m(\u001b[49m\u001b[43myear\u001b[49m\u001b[43m)\u001b[49m\u001b[38;5;241;43m.\u001b[39;49m\u001b[43msqueeze\u001b[49m\u001b[43m(\u001b[49m\u001b[43m)\u001b[49m\n\u001b[1;32m     26\u001b[0m \u001b[38;5;66;03m# return torch.cat([user_embed, location_embed, age_embed, book_embed, author_embed, year_embed, publisher_embed], dim=-1)\u001b[39;00m\n\u001b[1;32m     27\u001b[0m \u001b[38;5;28;01mreturn\u001b[39;00m torch\u001b[38;5;241m.\u001b[39mcat([user_embed, age_embed, book_embed, author_embed, year_embed], dim\u001b[38;5;241m=\u001b[39m\u001b[38;5;241m-\u001b[39m\u001b[38;5;241m1\u001b[39m)\n",
      "\u001b[0;31mKeyboardInterrupt\u001b[0m: "
     ]
    }
   ],
   "source": [
    "num_epochs = 10\n",
    "for epoch in range(num_epochs):\n",
    "    print(f'epoch{epoch} starts:')\n",
    "    model.train()\n",
    "    epoch_loss = 0\n",
    "    print(f'epoch{epoch} train finished:')\n",
    "    for user_id, book_id, rating in zip(train_data['User-ID'], train_data['ISBN'], train_data['Book-Rating']):\n",
    "        # if user_id not in user_id_mapping.values() or book_id not in book_id_mapping.values():\n",
    "        #     continue\n",
    "        # location_id = torch.tensor(users.loc[users['User-ID'] == user_id, 'Location'].values[0]).long()\n",
    "        age = torch.tensor(users.loc[users['User-ID'] == user_id, 'Age'].values[0]).float().unsqueeze(0)\n",
    "        author_id = torch.tensor(books.loc[books['ISBN'] == book_id, 'Book-Author'].values[0]).long()\n",
    "        year = torch.tensor(books.loc[books['ISBN'] == book_id, 'Year-Of-Publication'].values[0]).float().unsqueeze(0)\n",
    "        # publisher_id = torch.tensor(books.loc[books['ISBN'] == book_id, 'Publisher'].values[0]).long()\n",
    "        \n",
    "        user_id = torch.tensor(user_id).long()\n",
    "        book_id = torch.tensor(book_id).long()\n",
    "        \n",
    "        # embedding = model(user_id, book_id, location_id, age, author_id, year, publisher_id)\n",
    "        embedding = model(user_id, book_id, age, author_id, year)\n",
    "        rating = torch.tensor(rating).float().unsqueeze(0)\n",
    "        \n",
    "        optimizer.zero_grad()\n",
    "        output = embedding.dot(embedding)\n",
    "        loss = criterion(output, rating)\n",
    "        loss.backward()\n",
    "        optimizer.step()\n",
    "        epoch_loss += loss.item()\n",
    "    print(f'Epoch {epoch+1}/{num_epochs}, Loss: {epoch_loss/len(train_data)}')\n"
   ]
  }
 ],
 "metadata": {
  "kernelspec": {
   "display_name": "unsw",
   "language": "python",
   "name": "python3"
  },
  "language_info": {
   "codemirror_mode": {
    "name": "ipython",
    "version": 3
   },
   "file_extension": ".py",
   "mimetype": "text/x-python",
   "name": "python",
   "nbconvert_exporter": "python",
   "pygments_lexer": "ipython3",
   "version": "3.9.12"
  }
 },
 "nbformat": 4,
 "nbformat_minor": 2
}
