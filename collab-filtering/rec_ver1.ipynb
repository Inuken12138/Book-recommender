{
 "cells": [
  {
   "cell_type": "code",
   "execution_count": 7,
   "metadata": {},
   "outputs": [],
   "source": [
    "import numpy as np\n",
    "from scipy.sparse.linalg import svds\n",
    "import pandas as pd\n",
    "import warnings\n",
    "warnings.filterwarnings(\"ignore\")"
   ]
  },
  {
   "cell_type": "code",
   "execution_count": 2,
   "metadata": {},
   "outputs": [],
   "source": [
    "ratings = pd.read_csv('../Ratings.csv')\n",
    "users = pd.read_csv('../Users.csv')\n",
    "dtype_spec = {\n",
    "    'ISBN': str,\n",
    "    'Book-Title': str,\n",
    "    'Book-Author': str,\n",
    "    'Year-Of-Publication': str,\n",
    "    'Publisher': str,\n",
    "    'Image-URL-S': str,\n",
    "    'Image-URL-M': str,\n",
    "    'Image-URL-L': str,\n",
    "    'Description': str,\n",
    "    'Categories': str\n",
    "}\n",
    "books = pd.read_csv('../updated_books_progress.csv', dtype=dtype_spec, low_memory=False)\n"
   ]
  },
  {
   "cell_type": "code",
   "execution_count": 3,
   "metadata": {},
   "outputs": [
    {
     "data": {
      "text/plain": [
       "(   User-ID        ISBN  Book-Rating\n",
       " 0   276725  034545104X            0\n",
       " 1   276726  0155061224            5\n",
       " 2   276727  0446520802            0\n",
       " 3   276729  052165615X            3\n",
       " 4   276729  0521795028            6,\n",
       "          ISBN                                         Book-Title  \\\n",
       " 0  0195153448                                Classical Mythology   \n",
       " 1  0002005018                                       Clara Callan   \n",
       " 2  0060973129                               Decision in Normandy   \n",
       " 3  0374157065  Flu: The Story of the Great Influenza Pandemic...   \n",
       " 4  0393045218                             The Mummies of Urumchi   \n",
       " \n",
       "             Book-Author Year-Of-Publication                   Publisher  \\\n",
       " 0    Mark P. O. Morford                2002     Oxford University Press   \n",
       " 1  Richard Bruce Wright                2001       HarperFlamingo Canada   \n",
       " 2          Carlo D'Este                1991             HarperPerennial   \n",
       " 3      Gina Bari Kolata                1999        Farrar Straus Giroux   \n",
       " 4       E. J. W. Barber                1999  W. W. Norton &amp; Company   \n",
       " \n",
       "                                          Image-URL-S  \\\n",
       " 0  http://images.amazon.com/images/P/0195153448.0...   \n",
       " 1  http://images.amazon.com/images/P/0002005018.0...   \n",
       " 2  http://images.amazon.com/images/P/0060973129.0...   \n",
       " 3  http://images.amazon.com/images/P/0374157065.0...   \n",
       " 4  http://images.amazon.com/images/P/0393045218.0...   \n",
       " \n",
       "                                          Image-URL-M  \\\n",
       " 0  http://images.amazon.com/images/P/0195153448.0...   \n",
       " 1  http://images.amazon.com/images/P/0002005018.0...   \n",
       " 2  http://images.amazon.com/images/P/0060973129.0...   \n",
       " 3  http://images.amazon.com/images/P/0374157065.0...   \n",
       " 4  http://images.amazon.com/images/P/0393045218.0...   \n",
       " \n",
       "                                          Image-URL-L  \\\n",
       " 0  http://images.amazon.com/images/P/0195153448.0...   \n",
       " 1  http://images.amazon.com/images/P/0002005018.0...   \n",
       " 2  http://images.amazon.com/images/P/0060973129.0...   \n",
       " 3  http://images.amazon.com/images/P/0374157065.0...   \n",
       " 4  http://images.amazon.com/images/P/0393045218.0...   \n",
       " \n",
       "                                          Description      Categories  \n",
       " 0  Provides an introduction to classical myths pl...  Social Science  \n",
       " 1  In a small town in Canada, Clara Callan reluct...       Actresses  \n",
       " 2  Here, for the first time in paperback, is an o...         History  \n",
       " 3  \"Scientists have recently discovered shards of...         Medical  \n",
       " 4  A look at the incredibly well-preserved ancien...          Design  ,\n",
       "    User-ID                            Location   Age\n",
       " 0        1                  nyc, new york, usa   NaN\n",
       " 1        2           stockton, california, usa  18.0\n",
       " 2        3     moscow, yukon territory, russia   NaN\n",
       " 3        4           porto, v.n.gaia, portugal  17.0\n",
       " 4        5  farnborough, hants, united kingdom   NaN)"
      ]
     },
     "execution_count": 3,
     "metadata": {},
     "output_type": "execute_result"
    }
   ],
   "source": [
    "ratings_head = ratings.head()\n",
    "books_head = books.head()\n",
    "users_head = users.head()\n",
    "\n",
    "ratings_head, books_head, users_head"
   ]
  },
  {
   "cell_type": "code",
   "execution_count": 4,
   "metadata": {},
   "outputs": [],
   "source": [
    "def preprocess_users(users):\n",
    "    users['Age'].fillna(users['Age'].median(), inplace=True)\n",
    "    users['Age'] = users['Age'].astype(int)\n",
    "    return users\n",
    "\n",
    "def preprocess_books(books):\n",
    "    books.fillna('', inplace=True)\n",
    "    books['Year-Of-Publication'] = pd.to_numeric(books['Year-Of-Publication'], errors='coerce').fillna(0).astype(int)\n",
    "    return books\n"
   ]
  },
  {
   "cell_type": "code",
   "execution_count": 8,
   "metadata": {},
   "outputs": [
    {
     "data": {
      "text/plain": [
       "(   User-ID                            Location  Age\n",
       " 0        1                  nyc, new york, usa   32\n",
       " 1        2           stockton, california, usa   18\n",
       " 2        3     moscow, yukon territory, russia   32\n",
       " 3        4           porto, v.n.gaia, portugal   17\n",
       " 4        5  farnborough, hants, united kingdom   32,\n",
       "          ISBN                                         Book-Title  \\\n",
       " 0  0195153448                                Classical Mythology   \n",
       " 1  0002005018                                       Clara Callan   \n",
       " 2  0060973129                               Decision in Normandy   \n",
       " 3  0374157065  Flu: The Story of the Great Influenza Pandemic...   \n",
       " 4  0393045218                             The Mummies of Urumchi   \n",
       " \n",
       "             Book-Author  Year-Of-Publication                   Publisher  \\\n",
       " 0    Mark P. O. Morford                 2002     Oxford University Press   \n",
       " 1  Richard Bruce Wright                 2001       HarperFlamingo Canada   \n",
       " 2          Carlo D'Este                 1991             HarperPerennial   \n",
       " 3      Gina Bari Kolata                 1999        Farrar Straus Giroux   \n",
       " 4       E. J. W. Barber                 1999  W. W. Norton &amp; Company   \n",
       " \n",
       "                                          Image-URL-S  \\\n",
       " 0  http://images.amazon.com/images/P/0195153448.0...   \n",
       " 1  http://images.amazon.com/images/P/0002005018.0...   \n",
       " 2  http://images.amazon.com/images/P/0060973129.0...   \n",
       " 3  http://images.amazon.com/images/P/0374157065.0...   \n",
       " 4  http://images.amazon.com/images/P/0393045218.0...   \n",
       " \n",
       "                                          Image-URL-M  \\\n",
       " 0  http://images.amazon.com/images/P/0195153448.0...   \n",
       " 1  http://images.amazon.com/images/P/0002005018.0...   \n",
       " 2  http://images.amazon.com/images/P/0060973129.0...   \n",
       " 3  http://images.amazon.com/images/P/0374157065.0...   \n",
       " 4  http://images.amazon.com/images/P/0393045218.0...   \n",
       " \n",
       "                                          Image-URL-L  \\\n",
       " 0  http://images.amazon.com/images/P/0195153448.0...   \n",
       " 1  http://images.amazon.com/images/P/0002005018.0...   \n",
       " 2  http://images.amazon.com/images/P/0060973129.0...   \n",
       " 3  http://images.amazon.com/images/P/0374157065.0...   \n",
       " 4  http://images.amazon.com/images/P/0393045218.0...   \n",
       " \n",
       "                                          Description      Categories  \n",
       " 0  Provides an introduction to classical myths pl...  Social Science  \n",
       " 1  In a small town in Canada, Clara Callan reluct...       Actresses  \n",
       " 2  Here, for the first time in paperback, is an o...         History  \n",
       " 3  \"Scientists have recently discovered shards of...         Medical  \n",
       " 4  A look at the incredibly well-preserved ancien...          Design  )"
      ]
     },
     "execution_count": 8,
     "metadata": {},
     "output_type": "execute_result"
    }
   ],
   "source": [
    "users = preprocess_users(users)\n",
    "books = preprocess_books(books)\n",
    "\n",
    "users.head(), books.head()"
   ]
  },
  {
   "cell_type": "code",
   "execution_count": 9,
   "metadata": {},
   "outputs": [
    {
     "name": "stdout",
     "output_type": "stream",
     "text": [
      "-------matrix finished---------\n",
      "No NaN values in training matrix\n"
     ]
    }
   ],
   "source": [
    "from scipy.sparse import csr_matrix\n",
    "from implicit.als import AlternatingLeastSquares\n",
    "from sklearn.model_selection import train_test_split\n",
    "from sklearn.metrics import mean_squared_error\n",
    "\n",
    "user_id_mapping = {id: idx for idx, id in enumerate(ratings['User-ID'].unique())}\n",
    "book_id_mapping = {id: idx for idx, id in enumerate(ratings['ISBN'].unique())}\n",
    "\n",
    "ratings['User-ID'] = ratings['User-ID'].map(user_id_mapping)\n",
    "ratings['ISBN'] = ratings['ISBN'].map(book_id_mapping)\n",
    "ratings.dropna(subset=['Book-Rating'], inplace=True)\n",
    "all_user_ids = ratings['User-ID'].unique()\n",
    "all_book_ids = ratings['ISBN'].unique()\n",
    "\n",
    "train_data, test_data = train_test_split(ratings, test_size=0.2, random_state=42)\n",
    "\n",
    "train_user_ids = set(train_data['User-ID'])\n",
    "train_book_ids = set(train_data['ISBN'])\n",
    "missing_users = set(all_user_ids) - train_user_ids\n",
    "missing_books = set(all_book_ids) - train_book_ids\n",
    "\n",
    "missing_data = ratings[ratings['User-ID'].isin(missing_users) | ratings['ISBN'].isin(missing_books)]\n",
    "train_data = pd.concat([train_data, missing_data]).drop_duplicates()\n",
    "\n",
    "n_users = ratings['User-ID'].nunique()\n",
    "n_items = ratings['ISBN'].nunique()\n",
    "train_matrix = csr_matrix((train_data['Book-Rating'], (train_data['User-ID'], train_data['ISBN'])), shape=(n_users, n_items))\n",
    "test_matrix = csr_matrix((test_data['Book-Rating'], (test_data['User-ID'], test_data['ISBN'])), shape=(n_users, n_items))\n",
    "print(\"-------matrix finished---------\")\n",
    "\n",
    "if np.any(np.isnan(train_matrix.data)):\n",
    "    print(\"NaN values found in training matrix\")\n",
    "else:\n",
    "    print(\"No NaN values in training matrix\")"
   ]
  },
  {
   "cell_type": "code",
   "execution_count": 10,
   "metadata": {},
   "outputs": [],
   "source": [
    "als_model = AlternatingLeastSquares(factors=50, regularization=0.1, iterations=20, use_gpu=False, calculate_training_loss=True)\n"
   ]
  },
  {
   "cell_type": "code",
   "execution_count": 11,
   "metadata": {},
   "outputs": [
    {
     "name": "stderr",
     "output_type": "stream",
     "text": [
      "100%|██████████| 20/20 [01:53<00:00,  5.68s/it, loss=6.2e-5] "
     ]
    },
    {
     "name": "stdout",
     "output_type": "stream",
     "text": [
      "-----------------fitting finished-----------------\n"
     ]
    },
    {
     "name": "stderr",
     "output_type": "stream",
     "text": [
      "\n"
     ]
    }
   ],
   "source": [
    "\n",
    "\n",
    "als_model.fit(train_matrix.T, show_progress=True)\n",
    "print(\"-----------------fitting finished-----------------\")"
   ]
  },
  {
   "cell_type": "code",
   "execution_count": 12,
   "metadata": {},
   "outputs": [],
   "source": [
    "def evaluate_model(test_matrix, als_model):\n",
    "    test_user_items = test_matrix.nonzero()\n",
    "    predictions = []\n",
    "    ground_truth = []\n",
    "    for user, item in zip(test_user_items[0], test_user_items[1]):\n",
    "        if user < als_model.user_factors.shape[0] and item < als_model.item_factors.shape[0]:\n",
    "            prediction = als_model.user_factors[user, :].dot(als_model.item_factors[item, :].T)\n",
    "            predictions.append(prediction)\n",
    "            ground_truth.append(test_matrix[user, item])\n",
    "    if len(predictions) == 0:\n",
    "        return float('inf')  \n",
    "    return np.sqrt(mean_squared_error(ground_truth, predictions))"
   ]
  },
  {
   "cell_type": "code",
   "execution_count": 13,
   "metadata": {},
   "outputs": [
    {
     "name": "stdout",
     "output_type": "stream",
     "text": [
      "Test RMSE: 7.844746002414569\n"
     ]
    }
   ],
   "source": [
    "rmse = evaluate_model(train_matrix, als_model)\n",
    "print(f\"Test RMSE: {rmse}\")"
   ]
  },
  {
   "cell_type": "code",
   "execution_count": 14,
   "metadata": {},
   "outputs": [],
   "source": [
    "def recommend_books_als(user_id, num_recommendations=5):\n",
    "    if user_id not in user_id_mapping:\n",
    "        return [] \n",
    "    user_index = user_id_mapping[user_id]\n",
    "    user_ratings = train_matrix[user_index]\n",
    "    recommended_books = als_model.recommend(user_index, user_ratings, N=num_recommendations, filter_already_liked_items=True)\n",
    "    # recommended_book_ids = [list(book_id_mapping.keys())[list(book_id_mapping.values()).index(i)] for i, _ in recommended_books]\n",
    "    # return books[books['ISBN'].isin(recommended_book_ids)]\n",
    "    return recommended_books"
   ]
  },
  {
   "cell_type": "code",
   "execution_count": 15,
   "metadata": {},
   "outputs": [
    {
     "name": "stdout",
     "output_type": "stream",
     "text": [
      "         User-ID    ISBN  Book-Rating\n",
      "178554     15560   99291            0\n",
      "533905     49582   59185            8\n",
      "1091374    99796  121427            0\n",
      "1036247    94309  320740            0\n",
      "309523     28854   32411            0\n",
      "...          ...     ...          ...\n",
      "1146893   104997    3548            0\n",
      "359252     33613   22124           10\n",
      "461682     42867  157812            0\n",
      "921902     85478   35302            9\n",
      "461476     42867   18262            0\n",
      "\n",
      "[229956 rows x 3 columns]\n"
     ]
    }
   ],
   "source": [
    "print(test_data)"
   ]
  },
  {
   "cell_type": "code",
   "execution_count": 16,
   "metadata": {},
   "outputs": [
    {
     "name": "stdout",
     "output_type": "stream",
     "text": [
      "(array([89434, 12730, 72327, 89335, 87658], dtype=int32), array([0.07200544, 0.05262126, 0.05110756, 0.04840216, 0.04637698],\n",
      "      dtype=float32))\n"
     ]
    }
   ],
   "source": [
    "print(recommend_books_als(9713, 5))"
   ]
  }
 ],
 "metadata": {
  "kernelspec": {
   "display_name": "unsw",
   "language": "python",
   "name": "python3"
  },
  "language_info": {
   "codemirror_mode": {
    "name": "ipython",
    "version": 3
   },
   "file_extension": ".py",
   "mimetype": "text/x-python",
   "name": "python",
   "nbconvert_exporter": "python",
   "pygments_lexer": "ipython3",
   "version": "3.9.12"
  }
 },
 "nbformat": 4,
 "nbformat_minor": 2
}
